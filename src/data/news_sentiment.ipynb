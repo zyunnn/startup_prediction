{
 "cells": [
  {
   "cell_type": "markdown",
   "metadata": {},
   "source": [
    "## Prepare news features\n",
    "- Conduct sentiment analysis on company news "
   ]
  },
  {
   "cell_type": "code",
   "execution_count": 1,
   "metadata": {},
   "outputs": [],
   "source": [
    "# import library\n",
    "import pandas as pd\n",
    "import numpy as np\n",
    "import json\n",
    "import datetime\n",
    "import re\n",
    "import matplotlib.pyplot as plt\n",
    "import paddlehub as hub\n",
    "pd.set_option('display.max_columns', None)"
   ]
  },
  {
   "cell_type": "code",
   "execution_count": 10,
   "metadata": {
    "scrolled": true
   },
   "outputs": [
    {
     "data": {
      "text/html": [
       "<div>\n",
       "<style scoped>\n",
       "    .dataframe tbody tr th:only-of-type {\n",
       "        vertical-align: middle;\n",
       "    }\n",
       "\n",
       "    .dataframe tbody tr th {\n",
       "        vertical-align: top;\n",
       "    }\n",
       "\n",
       "    .dataframe thead th {\n",
       "        text-align: right;\n",
       "    }\n",
       "</style>\n",
       "<table border=\"1\" class=\"dataframe\">\n",
       "  <thead>\n",
       "    <tr style=\"text-align: right;\">\n",
       "      <th></th>\n",
       "      <th>Title</th>\n",
       "      <th>Title_link</th>\n",
       "      <th>Thumbnail</th>\n",
       "      <th>col999</th>\n",
       "      <th>col-f86</th>\n",
       "      <th>来自</th>\n",
       "    </tr>\n",
       "  </thead>\n",
       "  <tbody>\n",
       "    <tr>\n",
       "      <th>0</th>\n",
       "      <td>【哈萨克斯坦】招聘初创公司HR-messenger获得了40万美元的融资</td>\n",
       "      <td>https://www.hrtechchina.com/33169.html</td>\n",
       "      <td>https://cdn.itjuzi.com/images/7ffbef1087f72ca8...</td>\n",
       "      <td>HR Messenger |\\n                  企业服务 |\\n    ...</td>\n",
       "      <td>HR Messenger</td>\n",
       "      <td>www.hrtechchina.com</td>\n",
       "    </tr>\n",
       "    <tr>\n",
       "      <th>1</th>\n",
       "      <td>数字医疗初创公司Somatix完成450万美元B轮融资，助推远程患者监护服务发展</td>\n",
       "      <td>https://vcbeat.top/YzkzMjMwYmEzNWUyMmE1MWI5NjM...</td>\n",
       "      <td>https://cdn.itjuzi.com/images/a9d70967d0813647...</td>\n",
       "      <td>Somatix |\\n                  医疗健康 |\\n         ...</td>\n",
       "      <td>Somatix</td>\n",
       "      <td>vcbeat.top</td>\n",
       "    </tr>\n",
       "  </tbody>\n",
       "</table>\n",
       "</div>"
      ],
      "text/plain": [
       "                                      Title  \\\n",
       "0      【哈萨克斯坦】招聘初创公司HR-messenger获得了40万美元的融资   \n",
       "1  数字医疗初创公司Somatix完成450万美元B轮融资，助推远程患者监护服务发展   \n",
       "\n",
       "                                          Title_link  \\\n",
       "0             https://www.hrtechchina.com/33169.html   \n",
       "1  https://vcbeat.top/YzkzMjMwYmEzNWUyMmE1MWI5NjM...   \n",
       "\n",
       "                                           Thumbnail  \\\n",
       "0  https://cdn.itjuzi.com/images/7ffbef1087f72ca8...   \n",
       "1  https://cdn.itjuzi.com/images/a9d70967d0813647...   \n",
       "\n",
       "                                              col999       col-f86  \\\n",
       "0  HR Messenger |\\n                  企业服务 |\\n    ...  HR Messenger   \n",
       "1  Somatix |\\n                  医疗健康 |\\n         ...       Somatix   \n",
       "\n",
       "                    来自  \n",
       "0  www.hrtechchina.com  \n",
       "1           vcbeat.top  "
      ]
     },
     "execution_count": 10,
     "metadata": {},
     "output_type": "execute_result"
    }
   ],
   "source": [
    "data = pd.read_csv('./raw_data/company_news.csv',index_col=0)\n",
    "data.head(2)"
   ]
  },
  {
   "cell_type": "markdown",
   "metadata": {},
   "source": [
    "### Feature Engineering\n",
    "- extract news published date\n",
    "- map company to company id and company age\n",
    "- drop entry with faulty news published date\n"
   ]
  },
  {
   "cell_type": "code",
   "execution_count": 98,
   "metadata": {},
   "outputs": [],
   "source": [
    "# extract published date of each news entry\n",
    "news_date = []\n",
    "for i in data['col999']:\n",
    "    try:\n",
    "        match = re.search(r'\\d{4}-\\d{2}-\\d{2}', i)\n",
    "        date = datetime.datetime.strptime(match.group(), '%Y-%m-%d').date()\n",
    "        news_date.append(date)\n",
    "    except Exception as e:\n",
    "        print(e)\n",
    "        \n",
    "data['news_date'] = news_date"
   ]
  },
  {
   "cell_type": "code",
   "execution_count": 12,
   "metadata": {},
   "outputs": [],
   "source": [
    "# map company to respective company id and founded date\n",
    "with open('./raw_data/id_label.txt') as f:\n",
    "    label = json.load(f)\n",
    "\n",
    "with open('./raw_data/founded_label.json') as file:\n",
    "    founded_label = json.load(file)\n",
    "    \n",
    "data['col-f86'] = data['col-f86'].map(label)\n",
    "data.dropna(subset=['col-f86'],inplace=True)\n",
    "data['col-f86'] = data['col-f86'].astype(int)\n",
    "\n",
    "founded_label = {int(k):v for k,v in founded_label.items()}\n",
    "data['founded'] = data['col-f86'].map(founded_label)"
   ]
  },
  {
   "cell_type": "code",
   "execution_count": 260,
   "metadata": {},
   "outputs": [],
   "source": [
    "# get company age at news published date\n",
    "age_at_news = []\n",
    "for i,j in zip(data['founded'],data['news_date']):\n",
    "    try:\n",
    "        founded_date = datetime.datetime.strptime(i,'%Y-%m-%d')\n",
    "        news_date = j\n",
    "        age_at_news.append((news_date.year - founded_date.year)*12 + news_date.month - founded_date.month)\n",
    "    except Exception as e:\n",
    "        age_at_news.append(None)\n",
    "        print(e)\n",
    "        \n",
    "data['age_at_news'] = age_at_news"
   ]
  },
  {
   "cell_type": "code",
   "execution_count": null,
   "metadata": {},
   "outputs": [],
   "source": [
    "data.dropna(subset=['Title'],inplace=True)\n",
    "df_news = data[['news_date','col-f86','Title','age_at_news']]\n",
    "df_news = df_news.rename(columns={'col-f86':'company_id','Title':'title'})\n",
    "df_news['news_date'] = df_news['news_date'].astype('datetime64')\n",
    "df_news.drop_duplicates(['company_id','title'], inplace=True)\n",
    "df_news.drop(columns=['title'],inplace=True)\n",
    "print(\"Final number of news entry:\",len(df_news))"
   ]
  },
  {
   "cell_type": "code",
   "execution_count": 102,
   "metadata": {},
   "outputs": [],
   "source": [
    "df_news.to_csv('cleaned_news.csv',index=True)"
   ]
  },
  {
   "cell_type": "markdown",
   "metadata": {},
   "source": [
    "### Visualise distribution of news data"
   ]
  },
  {
   "cell_type": "code",
   "execution_count": 276,
   "metadata": {},
   "outputs": [
    {
     "data": {
      "image/png": "[encoded data removed]",
      "text/plain": [
       "<Figure size 1440x576 with 1 Axes>"
      ]
     },
     "metadata": {
      "needs_background": "light"
     },
     "output_type": "display_data"
    }
   ],
   "source": [
    "plt.figure(figsize=(20, 8))\n",
    "ax = df_news['title'].groupby([df_news['news_date'].dt.year, df_news['news_date'].dt.month]).count().plot(kind=\"bar\")\n",
    "ax.set_facecolor('#eeeeee')\n",
    "ax.set_xlabel(\"date\")\n",
    "ax.set_ylabel(\"count\")\n",
    "ax.set_title(\"news_data distribution\")\n",
    "plt.show()"
   ]
  },
  {
   "cell_type": "code",
   "execution_count": 283,
   "metadata": {},
   "outputs": [
    {
     "data": {
      "image/png": "[encoded data removed]",
      "text/plain": [
       "<Figure size 576x360 with 1 Axes>"
      ]
     },
     "metadata": {
      "needs_background": "light"
     },
     "output_type": "display_data"
    }
   ],
   "source": [
    "plt.figure(figsize=(8, 5))\n",
    "ax = df_news['news_date'].groupby([df_news['news_date'].dt.year]).count().plot(kind=\"bar\")\n",
    "ax.set_facecolor('#eeeeee')\n",
    "ax.set_xlabel(\"date\")\n",
    "ax.set_ylabel(\"count\")\n",
    "ax.set_title(\"news_data distribution\")\n",
    "plt.show()"
   ]
  },
  {
   "cell_type": "markdown",
   "metadata": {},
   "source": [
    "### Sentiment Analysis using Baidu Senta \n",
    "Baidu's open-source Sentiment Classification System\n",
    "- Referred from: https://github.com/baidu/Senta#%E6%A8%A1%E5%9E%8B%E8%AE%AD%E7%BB%83%E4%B8%8E%E9%A2%84%E6%B5%8B"
   ]
  },
  {
   "cell_type": "code",
   "execution_count": 16,
   "metadata": {},
   "outputs": [
    {
     "name": "stderr",
     "output_type": "stream",
     "text": [
      "[2020-01-29 13:23:21,580] [    INFO] - Installing senta_bilstm module\n",
      "2020-01-29 13:23:21,580-INFO: Installing senta_bilstm module\n",
      "[2020-01-29 13:23:21,720] [    INFO] - Module senta_bilstm already installed in /Users/zhiyun/.paddlehub/modules/senta_bilstm\n",
      "2020-01-29 13:23:21,720-INFO: Module senta_bilstm already installed in /Users/zhiyun/.paddlehub/modules/senta_bilstm\n"
     ]
    }
   ],
   "source": [
    "# use Baidu pre-trained model from paddlehub\n",
    "senta = hub.Module(name='senta_bilstm')"
   ]
  },
  {
   "cell_type": "code",
   "execution_count": null,
   "metadata": {},
   "outputs": [],
   "source": [
    "input_text = {\"text\":df_news['title']}\n",
    "results = senta.sentiment_classify(data = input_text)"
   ]
  },
  {
   "cell_type": "code",
   "execution_count": 189,
   "metadata": {},
   "outputs": [],
   "source": [
    "pos_sentiment = []\n",
    "neg_sentiment = []\n",
    "for r in results:\n",
    "    pos_sentiment.append(list(r.values())[3])\n",
    "    neg_sentiment.append(list(r.values())[4])\n",
    "df_news['pos_sentiment'] = pos_sentiment\n",
    "df_news['neg_sentiment'] = neg_sentiment"
   ]
  },
  {
   "cell_type": "code",
   "execution_count": 198,
   "metadata": {},
   "outputs": [],
   "source": [
    "df_news['compant_id'] = 'c:' + df_news['compant_id'].astype(str)\n",
    "df_news.to_csv('./cleaned_csv/cleaned_news.csv')"
   ]
  },
  {
   "cell_type": "code",
   "execution_count": null,
   "metadata": {},
   "outputs": [],
   "source": []
  }
 ],
 "metadata": {
  "kernelspec": {
   "display_name": "Python 3",
   "language": "python",
   "name": "python3"
  },
  "language_info": {
   "codemirror_mode": {
    "name": "ipython",
    "version": 3
   },
   "file_extension": ".py",
   "mimetype": "text/x-python",
   "name": "python",
   "nbconvert_exporter": "python",
   "pygments_lexer": "ipython3",
   "version": "3.7.3"
  }
 },
 "nbformat": 4,
 "nbformat_minor": 2
}
